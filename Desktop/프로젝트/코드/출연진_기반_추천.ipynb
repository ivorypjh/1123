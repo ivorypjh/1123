{
 "cells": [
  {
   "cell_type": "markdown",
   "id": "d4995738",
   "metadata": {},
   "source": [
    "## 공용 코드"
   ]
  },
  {
   "cell_type": "code",
   "execution_count": 1,
   "id": "caae30dd",
   "metadata": {},
   "outputs": [],
   "source": [
    "# 파이썬\n",
    "# ≥3.5 필수\n",
    "import sys\n",
    "assert sys.version_info >= (3, 5)\n",
    "\n",
    "# 공통 모듈 임포트\n",
    "import numpy as np\n",
    "import pandas as pd\n",
    "import os\n",
    "\n",
    "path = \"c:/Windows/Fonts/malgun.ttf\"\n",
    "\n",
    "from matplotlib import font_manager, rc\n",
    "\n",
    "import platform\n",
    "\n",
    "if platform.system() == 'Darwin':\n",
    "    rc('font', family='AppleGothic')\n",
    "elif platform.system() == 'Windows':\n",
    "    font_name = font_manager.FontProperties(fname=path).get_name()\n",
    "    rc('font', family=font_name)\n",
    "    \n",
    "# Jupyter Notebook의 출력을 소수점 이하 3자리로 제한\n",
    "%precision 3\n",
    "\n",
    "import sklearn\n",
    "assert sklearn.__version__ >= \"0.20\"\n",
    "\n",
    "# 시드 고정\n",
    "np.random.seed(21)"
   ]
  },
  {
   "cell_type": "markdown",
   "id": "2ac76389",
   "metadata": {},
   "source": [
    "## 데이터"
   ]
  },
  {
   "cell_type": "markdown",
   "id": "0ef2f941",
   "metadata": {},
   "source": [
    "### 데이터 가져오기"
   ]
  },
  {
   "cell_type": "code",
   "execution_count": 6,
   "id": "0f61f913",
   "metadata": {},
   "outputs": [],
   "source": [
    "origin_data = pd.read_excel('./3차_VOD_2308.xlsx', index_col = None)"
   ]
  },
  {
   "cell_type": "markdown",
   "id": "3867877a",
   "metadata": {},
   "source": [
    "### 데이터 전처리"
   ]
  },
  {
   "cell_type": "code",
   "execution_count": 14,
   "id": "6765d0ad",
   "metadata": {},
   "outputs": [],
   "source": [
    "# 불필요한 컬럼 제거\n",
    "drop_data = origin_data.drop(['Unnamed: 0', 'ct_cl', 'genre_of_ct_cl', 'use_tms', 'SMRY', 'disp_rtm', 'strt_dt'], axis = 1)"
   ]
  },
  {
   "cell_type": "code",
   "execution_count": 29,
   "id": "46677af9",
   "metadata": {},
   "outputs": [],
   "source": [
    "# 데이터에서 불필요한 부분 제거\n",
    "\n",
    "import re\n",
    "\n",
    "# 제목 데이터에서 불필요한 부분을 제거하고\n",
    "# 전처리된 제목을 새로운 컬럼으로 추가하는 함수\n",
    "def get_rid_asset(dataframe):\n",
    "    # 괄호 안의 불필요한 부분 패턴\n",
    "    pattern = re.compile('\\([A-Za-z가-힣\\s]+\\)|\\([가-힣\\d\\s]+\\)|\\([\\d\\/]{5,}\\)')\n",
    "\n",
    "    new_data = []\n",
    "\n",
    "    for item in dataframe['asset_nm']:\n",
    "        name = str(item)\n",
    "        match_pattern = pattern.findall(name)\n",
    "\n",
    "        for dt in match_pattern:\n",
    "            name = name.replace(dt, \"\")\n",
    "            #new_data.append(dt)\n",
    "\n",
    "        new_data.append(name) \n",
    "    \n",
    "    # 제목과 함께 존재하는 회차 정보 제거\n",
    "    pattern = re.compile('\\s[\\d]+회')\n",
    "\n",
    "    series = []\n",
    "\n",
    "    for item in new_data:\n",
    "        name = str(item)\n",
    "\n",
    "        # 정규 표현식을 만족하는 경우 - 드라마 컨텐츠\n",
    "        try:\n",
    "            match_pattern = pattern.findall(name)\n",
    "\n",
    "            for dt in match_pattern:\n",
    "                name = name.replace(dt, \"\")\n",
    "            series.append(name)\n",
    "\n",
    "        # 정규 표현식을 만족하지 않는 경우 - 영화(~~회 가 없음)\n",
    "        except:\n",
    "            series.append(item)\n",
    "    \n",
    "    # 데이터 프레임에 처리 결과 컬럼을 추가\n",
    "    dataframe['series_name'] = series"
   ]
  },
  {
   "cell_type": "code",
   "execution_count": 30,
   "id": "6cae1639",
   "metadata": {},
   "outputs": [],
   "source": [
    "# 데이터에 함수를 적용\n",
    "get_rid_asset(drop_data)\n",
    "\n",
    "# 함수 적용 결과 확인\n",
    "#print(drop_data.head())"
   ]
  },
  {
   "cell_type": "code",
   "execution_count": 35,
   "id": "784b18b6",
   "metadata": {},
   "outputs": [],
   "source": [
    "# 출연진 정보가 없는 데이터 제거\n",
    "no_actr_data = drop_data.drop(drop_data[drop_data['ACTR_DISP'] == '-'].index, axis = 0)\n",
    "\n",
    "# 제거 확인 - 출력되는 데이터 없음\n",
    "# print(no_actr_data[no_actr_data['ACTR_DISP'] == '-'])"
   ]
  },
  {
   "cell_type": "code",
   "execution_count": null,
   "id": "6892109d",
   "metadata": {},
   "outputs": [],
   "source": [
    "drop_data.head()"
   ]
  },
  {
   "cell_type": "code",
   "execution_count": 43,
   "id": "99b65300",
   "metadata": {},
   "outputs": [
    {
     "name": "stdout",
     "output_type": "stream",
     "text": [
      "       subsr                     asset_nm            ACTR_DISP  series_name\n",
      "0   65941000  (HD)그것이알고싶다 1361회(23/07/22)                  김상중      그것이알고싶다\n",
      "12  65941000     (HD)인간극장 3305회(23/05/29)            이용철,스즈키 준         인간극장\n",
      "20  65941000    과학수사대 스모킹 건 12회(23/06/14)  안현모,이유리,유성호,김복준,표창원  과학수사대 스모킹 건\n",
      "35  65941000     (HD)인간극장 3325회(23/06/26)                  강윤아         인간극장\n",
      "81  65941000     (HD)인간극장 3308회(23/06/02)            이용철,스즈키 준         인간극장\n"
     ]
    },
    {
     "name": "stderr",
     "output_type": "stream",
     "text": [
      "C:\\Users\\USER\\AppData\\Local\\Temp\\ipykernel_13544\\2122190420.py:2: UserWarning: Boolean Series key will be reindexed to match DataFrame index.\n",
      "  view_data = no_actr_data[drop_data['subsr'] == 65941000]\n"
     ]
    }
   ],
   "source": [
    "# 특정 subsr 의 시청 데이터에서 출연진 가져오기\n",
    "view_data = no_actr_data[drop_data['subsr'] == 65941000]\n",
    "\n",
    "# 데이터 확인\n",
    "print(view_data.head())"
   ]
  },
  {
   "cell_type": "markdown",
   "id": "2b4770c1",
   "metadata": {},
   "source": [
    "## 출연진 기반 추천"
   ]
  },
  {
   "cell_type": "markdown",
   "id": "769f41d7",
   "metadata": {},
   "source": [
    "### 출연진 데이터"
   ]
  },
  {
   "cell_type": "code",
   "execution_count": null,
   "id": "0c1c83ed",
   "metadata": {},
   "outputs": [],
   "source": [
    "# 출연진 정보를 저장할 list\n",
    "actr_list = []\n",
    "\n",
    "# 시청 데이터를 순회하면서 출연진 정보를 저장\n",
    "for _, item in view_data.iterrows():\n",
    "    if ',' in item['ACTR_DISP']:\n",
    "        item_list = item['ACTR_DISP'].split(',')\n",
    "    else:\n",
    "        item_list = [item['ACTR_DISP']]\n",
    "    \n",
    "    for actr in item_list:\n",
    "        actr_list.append(actr)\n",
    "\n",
    "# 확인\n",
    "print(actr_list)"
   ]
  },
  {
   "cell_type": "code",
   "execution_count": 55,
   "id": "7ea609ed",
   "metadata": {},
   "outputs": [],
   "source": [
    "# counter 를 사용해서 출연 횟수 확인\n",
    "from collections import Counter\n",
    "\n",
    "count = Counter(actr_list)\n",
    "\n",
    "# 가장 많이 출연한 상위 3위 출연진 정보\n",
    "best3_actr = count.most_common(3)"
   ]
  },
  {
   "cell_type": "code",
   "execution_count": 67,
   "id": "958299b9",
   "metadata": {},
   "outputs": [
    {
     "name": "stdout",
     "output_type": "stream",
     "text": [
      "[['이용철', 0.36], ['스즈키 준', 0.36], ['안현모', 0.29]]\n"
     ]
    }
   ],
   "source": [
    "# 상위 3위 출연진에 대해 가중치 설정\n",
    "score_sum = 0\n",
    "for actr_score in best3_actr:\n",
    "    score_sum += actr_score[1]\n",
    "\n",
    "w_best3 = []\n",
    "for actr_score in best3_actr:\n",
    "    w_best3.append([actr_score[0], round((actr_score[1] / score_sum), 2)])\n",
    "    \n",
    "print(w_best3)"
   ]
  },
  {
   "cell_type": "code",
   "execution_count": null,
   "id": "f9d608a4",
   "metadata": {},
   "outputs": [],
   "source": [
    "actr_score_list = []\n",
    "\n",
    "# 각 행을 순회하면서 출연진 정보에 대한 점수를 더해서 데이터 생성\n",
    "for _, item in drop_data.iterrows():\n",
    "    score_data = 0\n",
    "    \n",
    "    for name_score in w_best3:\n",
    "        if name_score[0] in str(item['ACTR_DISP']):\n",
    "            score_data += name_score[1]\n",
    "    actr_score_list.append(score_data)\n",
    "    \n",
    "# 기존 데이터에 컬럼 추가\n",
    "drop_data['ATCR_SCORE'] = actr_score_list\n",
    "\n",
    "# 확인\n",
    "drop_data.head()"
   ]
  },
  {
   "cell_type": "code",
   "execution_count": 80,
   "id": "6bbfa453",
   "metadata": {},
   "outputs": [
    {
     "data": {
      "text/plain": [
       "0.00    5579\n",
       "0.29      31\n",
       "0.72       5\n",
       "Name: ATCR_SCORE, dtype: int64"
      ]
     },
     "execution_count": 80,
     "metadata": {},
     "output_type": "execute_result"
    }
   ],
   "source": [
    "# 출연진 점수를 기준으로 순위 부여\n",
    "drop_data['rank'] = drop_data['ATCR_SCORE'].rank(method = 'min', na_option = 'bottom',\n",
    "                                                    ascending = False)\n",
    "# 확인\n",
    "drop_data['ATCR_SCORE'].value_counts()"
   ]
  },
  {
   "cell_type": "code",
   "execution_count": null,
   "id": "343dba76",
   "metadata": {},
   "outputs": [],
   "source": []
  }
 ],
 "metadata": {
  "kernelspec": {
   "display_name": "Python 3 (ipykernel)",
   "language": "python",
   "name": "python3"
  },
  "language_info": {
   "codemirror_mode": {
    "name": "ipython",
    "version": 3
   },
   "file_extension": ".py",
   "mimetype": "text/x-python",
   "name": "python",
   "nbconvert_exporter": "python",
   "pygments_lexer": "ipython3",
   "version": "3.10.9"
  }
 },
 "nbformat": 4,
 "nbformat_minor": 5
}
